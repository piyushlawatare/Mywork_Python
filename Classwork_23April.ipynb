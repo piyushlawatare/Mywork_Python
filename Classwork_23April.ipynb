{
 "cells": [
  {
   "cell_type": "code",
   "execution_count": 1,
   "metadata": {},
   "outputs": [
    {
     "name": "stdout",
     "output_type": "stream",
     "text": [
      "ACZ134\n"
     ]
    }
   ],
   "source": [
    "str='A1Z4C3'\n",
    "lis=[]\n",
    "num=[]\n",
    "for i in range(0,len(str),2):\n",
    "    lis.append(str[i])\n",
    "lis.sort()\n",
    "b=''.join(lis)\n",
    "for i in range(1,len(str),2):\n",
    "    num.append(str[i])\n",
    "num.sort()\n",
    "a=''.join(num)\n",
    "print(b+a)"
   ]
  },
  {
   "cell_type": "code",
   "execution_count": null,
   "metadata": {},
   "outputs": [],
   "source": []
  },
  {
   "cell_type": "code",
   "execution_count": 2,
   "metadata": {},
   "outputs": [
    {
     "name": "stdout",
     "output_type": "stream",
     "text": [
      "aaabbbbbbbAAA"
     ]
    }
   ],
   "source": [
    "a='a3b7A3'\n",
    "for i in range(0,len(a),2):\n",
    "    print(a[i]*int(a[(i+1)]), end='')"
   ]
  },
  {
   "cell_type": "code",
   "execution_count": null,
   "metadata": {},
   "outputs": [],
   "source": []
  },
  {
   "cell_type": "code",
   "execution_count": 3,
   "metadata": {},
   "outputs": [
    {
     "name": "stdout",
     "output_type": "stream",
     "text": [
      "jjoahmneaeasasaa\n"
     ]
    }
   ],
   "source": [
    "a='johnaaaaa'\n",
    "b='jameess'\n",
    "minrange=len(a) if len(a)<=len(b) else len(b)\n",
    "for i in range(0,minrange):\n",
    "    print(a[i]+b[i],end='')\n",
    "if len(a)>len(b):\n",
    "    print(a[minrange:])\n",
    "else:\n",
    "    print(b[minrange:])"
   ]
  },
  {
   "cell_type": "code",
   "execution_count": null,
   "metadata": {},
   "outputs": [],
   "source": []
  },
  {
   "cell_type": "code",
   "execution_count": 4,
   "metadata": {},
   "outputs": [
    {
     "name": "stdout",
     "output_type": "stream",
     "text": [
      "All charcter at even indev are : r,h,l,i\n",
      "All odd index charcter are : a,u,s,r\n"
     ]
    }
   ],
   "source": [
    "def indexof(string):\n",
    "    listeven=[]\n",
    "    listodd=[]\n",
    "    for i in range(0,len(string)):\n",
    "        if i%2==0:\n",
    "            (listeven.append(string[i]))\n",
    "        else:\n",
    "            listodd.append(string[i])\n",
    "    print('All charcter at even indev are :', ','.join(listeven))\n",
    "    print('All odd index charcter are :', ','.join(listodd))\n",
    "\n",
    "indexof('rahulsir')"
   ]
  },
  {
   "cell_type": "code",
   "execution_count": null,
   "metadata": {},
   "outputs": [],
   "source": []
  }
 ],
 "metadata": {
  "kernelspec": {
   "display_name": "Python 3",
   "language": "python",
   "name": "python3"
  },
  "language_info": {
   "codemirror_mode": {
    "name": "ipython",
    "version": 3
   },
   "file_extension": ".py",
   "mimetype": "text/x-python",
   "name": "python",
   "nbconvert_exporter": "python",
   "pygments_lexer": "ipython3",
   "version": "3.7.4"
  }
 },
 "nbformat": 4,
 "nbformat_minor": 2
}
