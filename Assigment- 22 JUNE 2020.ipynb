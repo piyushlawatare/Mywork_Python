{
 "cells": [
  {
   "cell_type": "markdown",
   "metadata": {},
   "source": [
    "# Assigment Python Basic (22/06/2020)"
   ]
  },
  {
   "cell_type": "markdown",
   "metadata": {},
   "source": [
    "1.\tWrite a function that inputs a number and prints the multiplication table of that number"
   ]
  },
  {
   "cell_type": "code",
   "execution_count": 1,
   "metadata": {},
   "outputs": [
    {
     "name": "stdout",
     "output_type": "stream",
     "text": [
      "Enter the number :6\n",
      "6 * 1 = 6\n",
      "6 * 2 = 12\n",
      "6 * 3 = 18\n",
      "6 * 4 = 24\n",
      "6 * 5 = 30\n",
      "6 * 6 = 36\n",
      "6 * 7 = 42\n",
      "6 * 8 = 48\n",
      "6 * 9 = 54\n",
      "6 * 10 = 60\n"
     ]
    }
   ],
   "source": [
    "def table(n):\n",
    "    for i in range(1,11):\n",
    "        print(\"{} * {} = {}\".format(n,i,i*n))\n",
    "        \n",
    "table(int(input(\"Enter the number :\")))"
   ]
  },
  {
   "cell_type": "markdown",
   "metadata": {},
   "source": [
    "."
   ]
  },
  {
   "cell_type": "markdown",
   "metadata": {},
   "source": [
    "2.\tWrite a program to print twin primes less than 1000. \n",
    "    If two consecutive odd numbers are both prime then they are known as twin primes"
   ]
  },
  {
   "cell_type": "code",
   "execution_count": null,
   "metadata": {},
   "outputs": [],
   "source": [
    "#notcorrect \n",
    "lis=list(range(3,1000))\n",
    "lis_odd=list(filter(lambda i: i%2!=0,lis))\n",
    "for i in lis_odd:\n",
    "    for j in range(2,i):\n",
    "        if i%j==0:\n",
    "            lis_odd.remove(i)\n",
    "            break\n",
    "x=[lis_odd[i:i+2] for i in range(0,len(lis_odd),2)]\n",
    "print(x)"
   ]
  },
  {
   "cell_type": "markdown",
   "metadata": {},
   "source": [
    "."
   ]
  },
  {
   "cell_type": "markdown",
   "metadata": {},
   "source": [
    "3.\tWrite a program to find out the prime factors of a number. Example: prime factors of 56 - 2, 2, 2, 7"
   ]
  },
  {
   "cell_type": "code",
   "execution_count": 23,
   "metadata": {},
   "outputs": [
    {
     "name": "stdout",
     "output_type": "stream",
     "text": [
      "Enter the number :56\n",
      "The Prime Factor of 56 is 2,2,2,7.\n"
     ]
    }
   ],
   "source": [
    "def primeFac(num):\n",
    "    check=num\n",
    "    lis=[]\n",
    "    while num%2==0:\n",
    "        lis.append(2)\n",
    "        num=num/2\n",
    "    for n in range(3,int(num+1)): \n",
    "        if num%n==0:\n",
    "            lis.append(n)\n",
    "        elif num==1:\n",
    "            break\n",
    "    if len(lis)>1 and lis[-1]==check:\n",
    "        lis.remove(check)\n",
    "\n",
    "    lis_str=list(map(lambda i:str(i),lis))\n",
    "    print(\"The Prime Factor of {} is {}.\".format(check,\",\".join(lis_str))) #using join and map\n",
    "    \n",
    "primeFac(int(input(\"Enter the number :\")))"
   ]
  },
  {
   "cell_type": "markdown",
   "metadata": {},
   "source": [
    "."
   ]
  },
  {
   "cell_type": "markdown",
   "metadata": {},
   "source": [
    "4.\tWrite a program to implement these formulae of permutations and combinations. Number of permutations of n objects taken r at a time: p(n, r) = n! / (n-r)!. Number of combinations of n objects taken r at a time is: c(n, r) = n! / (r!*(n-r)!) = p(n,r) / r"
   ]
  },
  {
   "cell_type": "markdown",
   "metadata": {},
   "source": [
    "Method One- Using Math Module"
   ]
  },
  {
   "cell_type": "code",
   "execution_count": 5,
   "metadata": {},
   "outputs": [
    {
     "name": "stdout",
     "output_type": "stream",
     "text": [
      "Enter the value of n :9\n",
      "Enter the value of r :5\n",
      "Number of permutation of 9 objects taken 5 at a time is 15120.0\n",
      "Number of combination of 9 objects taken 5 at a time is 126.0\n"
     ]
    }
   ],
   "source": [
    "def perCom(n,r):\n",
    "    if n>=r>=0:\n",
    "        from math import factorial as fac\n",
    "        permutation=fac(n)/fac(n-r)\n",
    "        print(\"Number of permutation of {} objects taken {} at a time is {}\".format(n,r,permutation))\n",
    "        combination=fac(n)/(fac(r)*fac(n-r))\n",
    "        print(\"Number of combination of {} objects taken {} at a time is {}\".format(n,r,combination))\n",
    "    else:\n",
    "        print(\"Please Enter the n>=r>=0\")\n",
    "\n",
    "perCom(int(input(\"Enter the value of n :\")),int(input(\"Enter the value of r :\"))) "
   ]
  },
  {
   "cell_type": "markdown",
   "metadata": {},
   "source": [
    "Method Two- Using Recurssion"
   ]
  },
  {
   "cell_type": "code",
   "execution_count": 6,
   "metadata": {},
   "outputs": [
    {
     "name": "stdout",
     "output_type": "stream",
     "text": [
      "Enter the value of n :9\n",
      "Enter the value of r :5\n",
      "Number of permutation of 9 objects taken 5 at a time is 15120.0\n",
      "Number of combination of 9 objects taken 5 at a time is 126.0\n"
     ]
    }
   ],
   "source": [
    "def perCom(n,r):\n",
    "    def fac(n):\n",
    "        if n==0:\n",
    "            return 1\n",
    "        else:\n",
    "            return n*fac(n-1)\n",
    "    \n",
    "    if n>=r>=0:\n",
    "        permutation=fac(n)/fac(n-r)\n",
    "        print(\"Number of permutation of {} objects taken {} at a time is {}\".format(n,r,permutation))\n",
    "        combination=fac(n)/(fac(r)*fac(n-r))\n",
    "        print(\"Number of combination of {} objects taken {} at a time is {}\".format(n,r,combination))\n",
    "    else:\n",
    "        print(\"Please Enter the n>=r>=0\")\n",
    "\n",
    "perCom(int(input(\"Enter the value of n :\")),int(input(\"Enter the value of r :\")))    "
   ]
  },
  {
   "cell_type": "markdown",
   "metadata": {},
   "source": [
    "."
   ]
  },
  {
   "cell_type": "markdown",
   "metadata": {},
   "source": [
    "5.\tWrite a function that converts a decimal number to binary number"
   ]
  },
  {
   "cell_type": "code",
   "execution_count": 24,
   "metadata": {},
   "outputs": [
    {
     "name": "stdout",
     "output_type": "stream",
     "text": [
      "Enter the Decimal number :27\n",
      "The Binary conversion of decimal 27 is 11011.\n"
     ]
    }
   ],
   "source": [
    "def decBin(a):\n",
    "    a_forprint=a\n",
    "    lis=\"\"\n",
    "    while a//2!=0:\n",
    "        b=a%2\n",
    "        lis=lis+str(b)\n",
    "        a=int(a/2)\n",
    "    lis=lis+str(\"1\")\n",
    "    print(\"The Binary conversion of decimal {} is {}.\".format(a_forprint,lis[::-1]))\n",
    "decBin(int(input(\"Enter the Decimal number :\")))"
   ]
  },
  {
   "cell_type": "markdown",
   "metadata": {},
   "source": [
    "."
   ]
  },
  {
   "cell_type": "markdown",
   "metadata": {},
   "source": [
    "6.\tWrite a function cubesum() that accepts an integer and returns the sum of the cubes of individual digits of that number. Use this function to make functions PrintArmstrong() and isArmstrong() to print Armstrong numbers and to find whether is an Armstrong number."
   ]
  },
  {
   "cell_type": "code",
   "execution_count": 8,
   "metadata": {},
   "outputs": [
    {
     "name": "stdout",
     "output_type": "stream",
     "text": [
      "Enter the Number :370\n",
      "The armstrong of number 370 is 370 \n",
      "The Entered number is Armstrong\n"
     ]
    }
   ],
   "source": [
    "#using decorator :-) proud of this one \n",
    "\n",
    "def PrintArmstrong(func):\n",
    "    def inner(name):\n",
    "        a=func(name)\n",
    "        print(\"The armstrong of number {} is {} \".format(name,a))\n",
    "        return a\n",
    "    return inner    \n",
    "\n",
    "def isArmstrong(func):\n",
    "    def inner(name):\n",
    "        a=func(name)\n",
    "        if name==str(a):\n",
    "            print(\"The Entered number is Armstrong\")\n",
    "        else:\n",
    "            print(\"The Entered number is not Armstrong\",)\n",
    "    return inner    \n",
    "\n",
    "@isArmstrong\n",
    "@PrintArmstrong\n",
    "def cubeSum(n):\n",
    "    length=len(n)\n",
    "    check=0\n",
    "    for i in range(0,length):\n",
    "        check+=(int(n[i])**3)\n",
    "    return check\n",
    "\n",
    "cubeSum(input(\"Enter the Number :\"))"
   ]
  },
  {
   "cell_type": "markdown",
   "metadata": {},
   "source": [
    "."
   ]
  },
  {
   "cell_type": "markdown",
   "metadata": {},
   "source": [
    "7.\tWrite a function prodDigits() that inputs a number and returns the product of digits of that number"
   ]
  },
  {
   "cell_type": "code",
   "execution_count": 11,
   "metadata": {},
   "outputs": [
    {
     "name": "stdout",
     "output_type": "stream",
     "text": [
      "Enter the Number :752\n",
      "The product of digits of that number 752 is 70.\n"
     ]
    }
   ],
   "source": [
    "def proDigit(n):\n",
    "    lis_num=list(n)\n",
    "    product=1\n",
    "    for i in lis_num:\n",
    "        product=product*int(i)\n",
    "    print(\"The product of digits of that number {} is {}.\".format(n,product))\n",
    "proDigit(input(\"Enter the Number :\"))   "
   ]
  },
  {
   "cell_type": "markdown",
   "metadata": {},
   "source": [
    "."
   ]
  },
  {
   "cell_type": "markdown",
   "metadata": {},
   "source": [
    "8.\tIf all digits of a number n are multiplied by each other repeating with the product, the one digit number obtained at last is called the multiplicative digital root of n. The number of times digits need to be multiplied to reach one digit is called the multiplicative persistance of n. "
   ]
  },
  {
   "cell_type": "code",
   "execution_count": 26,
   "metadata": {},
   "outputs": [
    {
     "name": "stdout",
     "output_type": "stream",
     "text": [
      "Enter the Number :86\n",
      "\n",
      "If all digits of a number n are multiplied by each other repeating with the product, the one digit number \n",
      "obtained at last is called the multiplicative digital root \n",
      "For 86 it(MDR) is 6.\n",
      "\n",
      "The number of times digits need to be multiplied to reach one digit is called the multiplicative persistance () \n",
      "For 86 it(MPersistence) is 3. \n"
     ]
    }
   ],
   "source": [
    "#using decorator extremly proud of this one :-)\n",
    "\n",
    "def MDR(func):\n",
    "    def inner(name):\n",
    "        count=1\n",
    "        a=func(name)\n",
    "        while len(a)!=1:\n",
    "            a=func(a)\n",
    "            count+=1\n",
    "        print(\"\")\n",
    "        print(\"If all digits of a number n are multiplied by each other repeating with the product, the one digit number \\nobtained at last is called the multiplicative digital root \\nFor {} it(MDR) is {}.\".format(name,a[0]))\n",
    "        return count\n",
    "    return inner\n",
    "\n",
    "def MPersistence(func):\n",
    "    def inner(name):\n",
    "        a=func(name)\n",
    "        print(\"\")\n",
    "        print(\"The number of times digits need to be multiplied to reach one digit is called the multiplicative persistance () \\nFor {} it(MPersistence) is {}. \".format(name,a))\n",
    "    return inner\n",
    "@MPersistence\n",
    "@MDR\n",
    "\n",
    "\n",
    "#using proDigit function from previous problem as mentioned\n",
    "\n",
    "def proDigit(n):\n",
    "    lis_num=list(n)\n",
    "    product=1\n",
    "    for i in lis_num:\n",
    "        product=product*int(i)\n",
    "    return list(str(product))\n",
    "proDigit(input(\"Enter the Number :\"))    "
   ]
  },
  {
   "cell_type": "markdown",
   "metadata": {},
   "source": [
    "."
   ]
  },
  {
   "cell_type": "markdown",
   "metadata": {},
   "source": [
    "9.\tWrite a function sumPdivisors() that finds the sum of proper divisors of a number. Proper divisors of a number are those numbers by which the number is divisible, except the number itself. For example proper divisors of 36 are 1, 2, 3, 4, 6, 9,12, 18"
   ]
  },
  {
   "cell_type": "code",
   "execution_count": 28,
   "metadata": {},
   "outputs": [
    {
     "name": "stdout",
     "output_type": "stream",
     "text": [
      "Enter the number :36\n",
      "The proper diviser of 36 is [1, 2, 3, 4, 6, 9, 12, 18].\n",
      "The sum of proper divisors of 36 is 55.\n"
     ]
    }
   ],
   "source": [
    "def properdiv(n):\n",
    "    lis=[1]\n",
    "    for i in range(2,n):\n",
    "        if n%i==0:\n",
    "            lis.append((i))\n",
    "    print(\"The proper diviser of {} is {}.\".format(n,lis))\n",
    "    print(\"The sum of proper divisors of {} is {}.\".format(n,sum(lis)))\n",
    "    \n",
    "    \n",
    "properdiv(int(input(\"Enter the number :\")))"
   ]
  },
  {
   "cell_type": "markdown",
   "metadata": {},
   "source": [
    "."
   ]
  },
  {
   "cell_type": "markdown",
   "metadata": {},
   "source": [
    "10.\tA number is called perfect if the sum of proper divisors of that number is equal to the number. For example 28 is perfect number, since 1+2+4+7+14=28. Write a program to print all the perfect numbers in a given range"
   ]
  },
  {
   "cell_type": "code",
   "execution_count": 14,
   "metadata": {},
   "outputs": [
    {
     "name": "stdout",
     "output_type": "stream",
     "text": [
      "Enter the lower range:2\n",
      "Enter the upper range :1000\n",
      "The Perfect number exist in given range is  [6, 28, 496]\n"
     ]
    }
   ],
   "source": [
    "def perNum(n,m):\n",
    "    if m>=n>=0:\n",
    "        per=[]\n",
    "        for i in range(n,m):\n",
    "            lis=[]\n",
    "            for j in range(1,i):\n",
    "                if i%j==0:\n",
    "                    lis.append(j)\n",
    "            if sum(lis)==i:\n",
    "                per.append(i)\n",
    "        if len(per)!=0:\n",
    "            print(\"The Perfect number exist in given range is \",per)\n",
    "        else:\n",
    "            print(\"No Perfect number exist in given range\")\n",
    "    else:\n",
    "        print(\"not valid range\")\n",
    "        \n",
    "        \n",
    "perNum(int(input(\"Enter the lower range:\")),int(input(\"Enter the upper range :\"))) "
   ]
  },
  {
   "cell_type": "markdown",
   "metadata": {},
   "source": [
    "."
   ]
  },
  {
   "cell_type": "markdown",
   "metadata": {},
   "source": [
    "11.\tTwo different numbers are called amicable numbers if the sum of the proper divisors of each is equal to the other number. \n",
    "\n",
    "For example 220 and 284 are amicable numbers. Sum of proper divisors of 220 = 1+2+4+5+10+11+20+22+44+55+110 = 284 Sum of proper divisors of 284 = 1+2+4+71+142 = 220 Write a function to print pairs of amicable numbers in a range\n"
   ]
  },
  {
   "cell_type": "code",
   "execution_count": 15,
   "metadata": {},
   "outputs": [
    {
     "name": "stdout",
     "output_type": "stream",
     "text": [
      "Enter first Number :284\n",
      "Enter secound Number :220\n",
      "YES the Enter number 284 and 220 are Amicable\n"
     ]
    }
   ],
   "source": [
    "def amicable(n,m):\n",
    "    lis_n=[]\n",
    "    lis_m=[]\n",
    "    for i in range(1,n):\n",
    "        if n%i==0:\n",
    "            lis_n.append(i)\n",
    "    for i in range(1,m):\n",
    "        if m%i==0:\n",
    "            lis_m.append(i)\n",
    "    if sum(lis_m)==n and sum(lis_n)==m:\n",
    "        print(\"YES the Enter number {} and {} are Amicable\".format(n,m))\n",
    "    else:\n",
    "        print(\"NO the Enter number are not Amicable\")\n",
    "\n",
    "amicable(int(input(\"Enter first Number :\")),int(input(\"Enter secound Number :\"))) "
   ]
  },
  {
   "cell_type": "markdown",
   "metadata": {},
   "source": [
    "."
   ]
  },
  {
   "cell_type": "markdown",
   "metadata": {},
   "source": [
    "12.\tWrite a program which can filter odd numbers in a list by using filter function"
   ]
  },
  {
   "cell_type": "code",
   "execution_count": 29,
   "metadata": {},
   "outputs": [
    {
     "name": "stdout",
     "output_type": "stream",
     "text": [
      "Input Number of list Seprated by Comma(,) :1,2,3,4,5,6,7,8,9,10,11,4,5,57,95\n",
      "List of Odd number is [1, 3, 5, 7, 9, 11, 5, 57, 95].\n"
     ]
    }
   ],
   "source": [
    "def filter_fun(list_num):\n",
    "    list_odd=list(filter(lambda i:i%2!=0,list_num))                 #filter\n",
    "    print(\"List of Odd number is {}.\".format(list_odd))\n",
    "\n",
    "filter_fun(list(map(lambda i: int(i),input(\"Input Number of list Seprated by Comma(,) :\").split(\",\"))))"
   ]
  },
  {
   "cell_type": "markdown",
   "metadata": {},
   "source": [
    "."
   ]
  },
  {
   "cell_type": "markdown",
   "metadata": {},
   "source": [
    "13.\tWrite a program which can map() to make a list whose elements are cube of elements in a given list"
   ]
  },
  {
   "cell_type": "code",
   "execution_count": 30,
   "metadata": {},
   "outputs": [
    {
     "name": "stdout",
     "output_type": "stream",
     "text": [
      "Input Number of list Seprated by Comma(,) :1,2,3,4,5,6\n",
      "The final list is  [1, 8, 27, 64, 125, 216]\n"
     ]
    }
   ],
   "source": [
    "def map_fun(list_given):\n",
    "    list_cube=list(map(lambda i:i**3,list_given))                 #map\n",
    "    print(\"The final list is \",list_cube)\n",
    "    \n",
    "map_fun(list(map(lambda i: int(i),input(\"Input Number of list Seprated by Comma(,) :\").split(\",\"))))"
   ]
  },
  {
   "cell_type": "markdown",
   "metadata": {},
   "source": [
    "."
   ]
  },
  {
   "cell_type": "markdown",
   "metadata": {},
   "source": [
    "14.\tWrite a program which can map() and filter() to make a list whose elements are cube of even number in a given list"
   ]
  },
  {
   "cell_type": "code",
   "execution_count": 31,
   "metadata": {},
   "outputs": [
    {
     "name": "stdout",
     "output_type": "stream",
     "text": [
      "Input Number of list Seprated by Comma(,) :1,2,3,4,5,6,7,8,9,10,11,4,5,57,95\n",
      "The even number list is  [2, 4, 6, 8, 10, 4]\n",
      "The final list is  [8, 64, 216, 512, 1000, 64]\n"
     ]
    }
   ],
   "source": [
    "def map_filter(list_given):\n",
    "    list_even=list(filter(lambda i:i%2==0,list_given))  #filter\n",
    "    list_cube=list(map(lambda i:i**3,list_even))        #map \n",
    "    print(\"The even number list is \",list_even)\n",
    "    print(\"The final list is \",list_cube)\n",
    "    \n",
    "map_filter(list(map(lambda i: int(i),input(\"Input Number of list Seprated by Comma(,) :\").split(\",\"))))"
   ]
  },
  {
   "cell_type": "markdown",
   "metadata": {},
   "source": [
    "."
   ]
  },
  {
   "cell_type": "code",
   "execution_count": null,
   "metadata": {},
   "outputs": [],
   "source": []
  }
 ],
 "metadata": {
  "kernelspec": {
   "display_name": "Python 3",
   "language": "python",
   "name": "python3"
  },
  "language_info": {
   "codemirror_mode": {
    "name": "ipython",
    "version": 3
   },
   "file_extension": ".py",
   "mimetype": "text/x-python",
   "name": "python",
   "nbconvert_exporter": "python",
   "pygments_lexer": "ipython3",
   "version": "3.7.4"
  }
 },
 "nbformat": 4,
 "nbformat_minor": 2
}
